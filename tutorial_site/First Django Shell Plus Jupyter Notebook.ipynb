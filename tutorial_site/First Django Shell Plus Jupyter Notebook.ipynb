{
 "cells": [
  {
   "cell_type": "code",
   "execution_count": 1,
   "id": "0e2a86a7",
   "metadata": {},
   "outputs": [],
   "source": [
    "from django.test import Client\n",
    "import os\n",
    "import django\n",
    "os.environ[\"DJANGO_ALLOW_ASYNC_UNSAFE\"] = \"true\"\n",
    "django.setup()"
   ]
  },
  {
   "cell_type": "code",
   "execution_count": 2,
   "id": "8bb174b0",
   "metadata": {},
   "outputs": [],
   "source": [
    "client = Client()"
   ]
  },
  {
   "cell_type": "code",
   "execution_count": 3,
   "id": "eb38d974",
   "metadata": {},
   "outputs": [
    {
     "name": "stdout",
     "output_type": "stream",
     "text": [
      "/f/github/python3_django4_playground/tutorial_site\n"
     ]
    }
   ],
   "source": [
    "!pwd"
   ]
  },
  {
   "cell_type": "code",
   "execution_count": 4,
   "id": "d0d82f31",
   "metadata": {},
   "outputs": [],
   "source": [
    "from polls.models import Question\n",
    "import datetime\n",
    "from django.utils import timezone"
   ]
  },
  {
   "cell_type": "code",
   "execution_count": 5,
   "id": "90f2a5c3",
   "metadata": {},
   "outputs": [],
   "source": [
    "# future_question = Question(pub_date=timezone.now() + datetime.timedelta(days=30))"
   ]
  },
  {
   "cell_type": "code",
   "execution_count": 18,
   "id": "7ae833df",
   "metadata": {},
   "outputs": [],
   "source": [
    "def create_question(question_text, days):\n",
    "    \"\"\"\n",
    "    Create a question with the given `question_text` and published the\n",
    "    given number of `days` offset to now (negative for questions published\n",
    "    in the past, positive for questions that have yet to be published).\n",
    "    \"\"\"\n",
    "    time = timezone.now() + datetime.timedelta(days=days)\n",
    "    return Question.objects.create(question_text=question_text, pub_date=time)"
   ]
  },
  {
   "cell_type": "code",
   "execution_count": 6,
   "id": "87595093",
   "metadata": {},
   "outputs": [],
   "source": [
    "from django.urls import reverse"
   ]
  },
  {
   "cell_type": "code",
   "execution_count": 22,
   "id": "64cd3bd3",
   "metadata": {},
   "outputs": [],
   "source": [
    "response = client.get(reverse('polls:index'))"
   ]
  },
  {
   "cell_type": "code",
   "execution_count": 23,
   "id": "40342733",
   "metadata": {},
   "outputs": [
    {
     "data": {
      "text/plain": [
       "{'paginator': None,\n",
       " 'page_obj': None,\n",
       " 'is_paginated': False,\n",
       " 'object_list': <QuerySet [<Question: what's up>, <Question: hello old>]>,\n",
       " 'latest_question_list': <QuerySet [<Question: what's up>, <Question: hello old>]>,\n",
       " 'view': <polls.views.IndexView at 0x2001478f7f0>}"
      ]
     },
     "execution_count": 23,
     "metadata": {},
     "output_type": "execute_result"
    }
   ],
   "source": [
    "response.context_data"
   ]
  },
  {
   "cell_type": "code",
   "execution_count": 21,
   "id": "eced3998",
   "metadata": {},
   "outputs": [
    {
     "data": {
      "text/plain": [
       "<QuerySet [<Question: what's up>, <Question: hello old>]>"
      ]
     },
     "execution_count": 21,
     "metadata": {},
     "output_type": "execute_result"
    }
   ],
   "source": [
    "Question.objects.filter(pub_date__lte=timezone.now())"
   ]
  },
  {
   "cell_type": "code",
   "execution_count": 19,
   "id": "a34dfa1e",
   "metadata": {},
   "outputs": [],
   "source": [
    "old_question = create_question(\"hello old\", -30)"
   ]
  },
  {
   "cell_type": "code",
   "execution_count": 20,
   "id": "05047326",
   "metadata": {},
   "outputs": [
    {
     "data": {
      "text/plain": [
       "<Question: hello old>"
      ]
     },
     "execution_count": 20,
     "metadata": {},
     "output_type": "execute_result"
    }
   ],
   "source": [
    "old_question"
   ]
  },
  {
   "cell_type": "code",
   "execution_count": null,
   "id": "4f0ccded",
   "metadata": {},
   "outputs": [],
   "source": []
  }
 ],
 "metadata": {
  "kernelspec": {
   "display_name": "Django Shell-Plus",
   "language": "python",
   "name": "django_extensions"
  },
  "language_info": {
   "codemirror_mode": {
    "name": "ipython",
    "version": 3
   },
   "file_extension": ".py",
   "mimetype": "text/x-python",
   "name": "python",
   "nbconvert_exporter": "python",
   "pygments_lexer": "ipython3",
   "version": "3.9.13"
  }
 },
 "nbformat": 4,
 "nbformat_minor": 5
}
