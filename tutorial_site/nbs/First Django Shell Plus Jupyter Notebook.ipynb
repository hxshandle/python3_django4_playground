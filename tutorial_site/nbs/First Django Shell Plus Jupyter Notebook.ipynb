{
 "cells": [
  {
   "cell_type": "code",
   "execution_count": 1,
   "id": "bc56dd17",
   "metadata": {},
   "outputs": [],
   "source": [
    "from django.test import Client\n",
    "import os\n",
    "import django\n",
    "os.environ[\"DJANGO_ALLOW_ASYNC_UNSAFE\"] = \"true\"\n",
    "django.setup()"
   ]
  },
  {
   "cell_type": "code",
   "execution_count": 2,
   "id": "ec8b2b4c",
   "metadata": {},
   "outputs": [],
   "source": [
    "client = Client()"
   ]
  },
  {
   "cell_type": "code",
   "execution_count": 3,
   "id": "6936e9ef",
   "metadata": {},
   "outputs": [
    {
     "name": "stdout",
     "output_type": "stream",
     "text": [
      "/f/github/python3_django4_playground/tutorial_site/nbs\n"
     ]
    }
   ],
   "source": [
    "!pwd"
   ]
  },
  {
   "cell_type": "code",
   "execution_count": 4,
   "id": "0d60ced8",
   "metadata": {},
   "outputs": [],
   "source": [
    "from polls.models import Question\n",
    "import datetime\n",
    "from django.utils import timezone"
   ]
  },
  {
   "cell_type": "code",
   "execution_count": 5,
   "id": "57767fc0",
   "metadata": {},
   "outputs": [],
   "source": [
    "future_question = Question(pub_date=timezone.now() + datetime.timedelta(days=30))"
   ]
  },
  {
   "cell_type": "code",
   "execution_count": 6,
   "id": "a7c63ac1",
   "metadata": {},
   "outputs": [
    {
     "data": {
      "text/plain": [
       "False"
      ]
     },
     "execution_count": 6,
     "metadata": {},
     "output_type": "execute_result"
    }
   ],
   "source": [
    "future_question.was_published_recently()"
   ]
  },
  {
   "cell_type": "code",
   "execution_count": 7,
   "id": "dad6d388",
   "metadata": {},
   "outputs": [],
   "source": [
    "from django.urls import reverse"
   ]
  },
  {
   "cell_type": "code",
   "execution_count": 8,
   "id": "775c7050",
   "metadata": {},
   "outputs": [],
   "source": [
    "response = client.get(reverse('polls:index'))"
   ]
  },
  {
   "cell_type": "code",
   "execution_count": 9,
   "id": "89a7574c",
   "metadata": {},
   "outputs": [
    {
     "data": {
      "text/plain": [
       "<TemplateResponse status_code=200, \"text/html; charset=utf-8\">"
      ]
     },
     "execution_count": 9,
     "metadata": {},
     "output_type": "execute_result"
    }
   ],
   "source": [
    "response"
   ]
  },
  {
   "cell_type": "code",
   "execution_count": 10,
   "id": "83cc0569",
   "metadata": {},
   "outputs": [
    {
     "name": "stdout",
     "output_type": "stream",
     "text": [
      "None\n"
     ]
    }
   ],
   "source": [
    "print(response.context)"
   ]
  },
  {
   "cell_type": "code",
   "execution_count": 11,
   "id": "3da177c7",
   "metadata": {},
   "outputs": [],
   "source": [
    "def create_question(question_text, days):\n",
    "    \"\"\"\n",
    "    Create a question with the given `question_text` and published the\n",
    "    given number of `days` offset to now (negative for questions published\n",
    "    in the past, positive for questions that have yet to be published).\n",
    "    \"\"\"\n",
    "    time = timezone.now() + datetime.timedelta(days=days)\n",
    "    return Question.objects.create(question_text=question_text, pub_date=time)"
   ]
  },
  {
   "cell_type": "code",
   "execution_count": 12,
   "id": "999e36bb",
   "metadata": {},
   "outputs": [
    {
     "data": {
      "text/plain": [
       "<Question: Future question.>"
      ]
     },
     "execution_count": 12,
     "metadata": {},
     "output_type": "execute_result"
    }
   ],
   "source": [
    "create_question(question_text=\"Future question.\", days=30)"
   ]
  },
  {
   "cell_type": "code",
   "execution_count": 13,
   "id": "c4c32b08",
   "metadata": {},
   "outputs": [],
   "source": [
    "response = client.get(reverse(\"polls:index\"))"
   ]
  },
  {
   "cell_type": "code",
   "execution_count": 14,
   "id": "b5599d72",
   "metadata": {},
   "outputs": [
    {
     "data": {
      "text/plain": [
       "<QuerySet [<Question: what's up>, <Question: Future question.>, <Question: Future question.>]>"
      ]
     },
     "execution_count": 14,
     "metadata": {},
     "output_type": "execute_result"
    }
   ],
   "source": [
    "Question.objects.all()"
   ]
  },
  {
   "cell_type": "code",
   "execution_count": 17,
   "id": "a3cc2337",
   "metadata": {},
   "outputs": [
    {
     "data": {
      "text/plain": [
       "b'\\n    <ul>\\n    \\n        <li><a href=\"/polls/1/\">what&#x27;s up</a></li>\\n    \\n    </ul>\\n'"
      ]
     },
     "execution_count": 17,
     "metadata": {},
     "output_type": "execute_result"
    }
   ],
   "source": [
    "response.content"
   ]
  },
  {
   "cell_type": "code",
   "execution_count": null,
   "id": "89418ab4",
   "metadata": {},
   "outputs": [],
   "source": []
  }
 ],
 "metadata": {
  "kernelspec": {
   "display_name": "Django Shell-Plus",
   "language": "python",
   "name": "django_extensions"
  },
  "language_info": {
   "codemirror_mode": {
    "name": "ipython",
    "version": 3
   },
   "file_extension": ".py",
   "mimetype": "text/x-python",
   "name": "python",
   "nbconvert_exporter": "python",
   "pygments_lexer": "ipython3",
   "version": "3.9.13"
  }
 },
 "nbformat": 4,
 "nbformat_minor": 5
}
